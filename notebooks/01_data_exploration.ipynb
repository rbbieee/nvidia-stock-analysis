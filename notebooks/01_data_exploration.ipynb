{
 "cells": [
  {
   "cell_type": "markdown",
   "id": "519d9380-f5f3-4d0a-9f2a-14f9b0de4f5f",
   "metadata": {},
   "source": [
    "# import libraries"
   ]
  },
  {
   "cell_type": "code",
   "execution_count": null,
   "id": "2cf29cf1-fcbb-4e96-bdf0-94c2063bd769",
   "metadata": {},
   "outputs": [],
   "source": [
    "import pandas as pd\n",
    "import numpy as np\n",
    "import matplotlib.pyplot as plt\n",
    "import seaborn as sns\n",
    "import sys\n",
    "sys.path.append('..')\n",
    "\n",
    "from src.data_fetcher import StockDataFetcher\n",
    "from src.features import FeatureEngineer\n",
    "\n",
    "plt.style.use('seaborn-v0_8-whitegrid')\n",
    "sns.set_palette(\"husl\")\n",
    "\n",
    "print(\"Libraries loaded successfully\")"
   ]
  },
  {
   "cell_type": "markdown",
   "id": "0f1b02ed-0335-4a7c-9ab5-31bf7045257b",
   "metadata": {},
   "source": [
    "# load data"
   ]
  },
  {
   "cell_type": "code",
   "execution_count": null,
   "id": "fa622038-22c5-4f78-bc0f-d3f6cea0c143",
   "metadata": {},
   "outputs": [],
   "source": [
    "fetcher = StockDataFetcher('NVDA')\n",
    "df = fetcher.get_historical_data(period='2y')\n",
    "\n",
    "print(f\"Data shape: {df.shape}\")\n",
    "df.head()"
   ]
  },
  {
   "cell_type": "markdown",
   "id": "bfce7761-1bd0-46d3-ae64-1c3910919f30",
   "metadata": {},
   "source": [
    "# info"
   ]
  },
  {
   "cell_type": "code",
   "execution_count": null,
   "id": "6f462bb6-3469-44d0-b358-b913adf8f4dd",
   "metadata": {},
   "outputs": [],
   "source": [
    "print(\"Dataset Information:\")\n",
    "print(f\"Total rows: {len(df)}\")\n",
    "print(f\"Date range: {df['Date'].min()} to {df['Date'].max()}\")\n",
    "print(f\"\\nColumns: {df.columns.tolist()}\")\n",
    "print(f\"\\nMissing values:\\n{df.isnull().sum()}\")\n",
    "print(f\"\\nBasic statistics:\")\n",
    "df.describe()"
   ]
  },
  {
   "cell_type": "markdown",
   "id": "8244021d-29e4-467b-821e-3f34368bc2b2",
   "metadata": {},
   "source": [
    "# price chart"
   ]
  },
  {
   "cell_type": "code",
   "execution_count": null,
   "id": "df6cb2b0-02de-4eb3-8375-c162b4a2f2fb",
   "metadata": {},
   "outputs": [],
   "source": [
    "fig, ax = plt.subplots(figsize=(15, 6))\n",
    "\n",
    "ax.plot(df['Date'], df['Close'], linewidth=2, color='#2ecc71', label='Close Price')\n",
    "ax.fill_between(df['Date'], df['Close'], alpha=0.3, color='#2ecc71')\n",
    "\n",
    "ax.set_title('NVIDIA Stock Price Over Time', fontsize=18, fontweight='bold', pad=20)\n",
    "ax.set_xlabel('Date', fontsize=13)\n",
    "ax.set_ylabel('Price (USD)', fontsize=13)\n",
    "ax.legend(fontsize=11)\n",
    "ax.grid(True, alpha=0.3)\n",
    "\n",
    "plt.tight_layout()\n",
    "plt.show()"
   ]
  },
  {
   "cell_type": "markdown",
   "id": "2d1e8de9-6347-46d8-8ad6-3fd73aaaff3a",
   "metadata": {},
   "source": [
    "# volume analysis"
   ]
  },
  {
   "cell_type": "code",
   "execution_count": null,
   "id": "74931d4e-6e3e-4d36-9338-ac41ec6e32b2",
   "metadata": {},
   "outputs": [],
   "source": [
    "fig, (ax1, ax2) = plt.subplots(2, 1, figsize=(15, 10), sharex=True)\n",
    "\n",
    "ax1.plot(df['Date'], df['Close'], linewidth=2, color='#3498db')\n",
    "ax1.set_title('Stock Price', fontsize=14, fontweight='bold')\n",
    "ax1.set_ylabel('Price (USD)', fontsize=12)\n",
    "ax1.grid(True, alpha=0.3)\n",
    "\n",
    "ax2.bar(df['Date'], df['Volume'], width=1, color='#e74c3c', alpha=0.6)\n",
    "ax2.set_title('Trading Volume', fontsize=14, fontweight='bold')\n",
    "ax2.set_xlabel('Date', fontsize=12)\n",
    "ax2.set_ylabel('Volume', fontsize=12)\n",
    "ax2.grid(True, alpha=0.3)\n",
    "\n",
    "plt.tight_layout()\n",
    "plt.show()"
   ]
  },
  {
   "cell_type": "markdown",
   "id": "6cead1ca-a41f-4bc2-969e-d03767949639",
   "metadata": {},
   "source": [
    "# daily returns distribution"
   ]
  },
  {
   "cell_type": "code",
   "execution_count": null,
   "id": "3b6674ac-2b96-4475-9af3-4eb0c3689442",
   "metadata": {},
   "outputs": [],
   "source": [
    "df['Daily_Return'] = df['Close'].pct_change() * 100\n",
    "\n",
    "fig, ax = plt.subplots(figsize=(12, 6))\n",
    "\n",
    "ax.hist(df['Daily_Return'].dropna(), bins=60, color='#9b59b6', alpha=0.7, edgecolor='black')\n",
    "ax.axvline(df['Daily_Return'].mean(), color='red', linestyle='--', linewidth=2, \n",
    "           label=f'Mean: {df[\"Daily_Return\"].mean():.2f}%')\n",
    "ax.axvline(0, color='black', linestyle='-', linewidth=1, alpha=0.5)\n",
    "\n",
    "ax.set_title('Distribution of Daily Returns', fontsize=18, fontweight='bold', pad=20)\n",
    "ax.set_xlabel('Daily Return (%)', fontsize=13)\n",
    "ax.set_ylabel('Frequency', fontsize=13)\n",
    "ax.legend(fontsize=11)\n",
    "ax.grid(True, alpha=0.3)\n",
    "\n",
    "plt.tight_layout()\n",
    "plt.show()\n",
    "\n",
    "print(f\"Mean daily return: {df['Daily_Return'].mean():.3f}%\")\n",
    "print(f\"Std deviation: {df['Daily_Return'].std():.3f}%\")\n",
    "print(f\"Best day: {df['Daily_Return'].max():.2f}%\")\n",
    "print(f\"Worst day: {df['Daily_Return'].min():.2f}%\")"
   ]
  },
  {
   "cell_type": "markdown",
   "id": "41f954f8-b3f3-4d7f-9cd4-b8a4749e0d26",
   "metadata": {},
   "source": [
    "# price with moving average"
   ]
  },
  {
   "cell_type": "code",
   "execution_count": null,
   "id": "49fab29b-ee97-4c4c-b4a6-358669a511fa",
   "metadata": {},
   "outputs": [],
   "source": [
    "df['SMA_30'] = df['Close'].rolling(window=30).mean()\n",
    "df['SMA_50'] = df['Close'].rolling(window=50).mean()\n",
    "\n",
    "fig, ax = plt.subplots(figsize=(15, 7))\n",
    "\n",
    "ax.plot(df['Date'], df['Close'], linewidth=2, label='Close Price', color='#34495e')\n",
    "ax.plot(df['Date'], df['SMA_30'], linewidth=2, label='SMA 30', color='#e67e22', linestyle='--')\n",
    "ax.plot(df['Date'], df['SMA_50'], linewidth=2, label='SMA 50', color='#16a085', linestyle='--')\n",
    "\n",
    "ax.set_title('Stock Price with Moving Averages', fontsize=18, fontweight='bold', pad=20)\n",
    "ax.set_xlabel('Date', fontsize=13)\n",
    "ax.set_ylabel('Price (USD)', fontsize=13)\n",
    "ax.legend(fontsize=11, loc='upper left')\n",
    "ax.grid(True, alpha=0.3)\n",
    "\n",
    "plt.tight_layout()\n",
    "plt.show()"
   ]
  },
  {
   "cell_type": "markdown",
   "id": "10fd56fd-24d6-47ae-a310-6924961d6858",
   "metadata": {},
   "source": [
    "# monthly returns heatmap"
   ]
  },
  {
   "cell_type": "code",
   "execution_count": null,
   "id": "9f74dc50-ceb0-4c83-8c8a-7236e8b6712d",
   "metadata": {},
   "outputs": [],
   "source": [
    "df['Year'] = pd.to_datetime(df['Date']).dt.year\n",
    "df['Month'] = pd.to_datetime(df['Date']).dt.month\n",
    "\n",
    "monthly_returns = df.groupby(['Year', 'Month'])['Daily_Return'].sum().reset_index()\n",
    "pivot_returns = monthly_returns.pivot(index='Month', columns='Year', values='Daily_Return')\n",
    "\n",
    "fig, ax = plt.subplots(figsize=(10, 8))\n",
    "sns.heatmap(pivot_returns, annot=True, fmt='.1f', cmap='RdYlGn', center=0, \n",
    "            cbar_kws={'label': 'Return (%)'}, linewidths=0.5, ax=ax)\n",
    "\n",
    "ax.set_title('Monthly Returns Heatmap', fontsize=16, fontweight='bold', pad=20)\n",
    "ax.set_xlabel('Year', fontsize=12)\n",
    "ax.set_ylabel('Month', fontsize=12)\n",
    "\n",
    "plt.tight_layout()\n",
    "plt.show()"
   ]
  },
  {
   "cell_type": "code",
   "execution_count": null,
   "id": "bb200760-7b44-4c36-b1dc-5057a57aeb6b",
   "metadata": {},
   "outputs": [],
   "source": []
  }
 ],
 "metadata": {
  "kernelspec": {
   "display_name": "Python 3 (ipykernel)",
   "language": "python",
   "name": "python3"
  },
  "language_info": {
   "codemirror_mode": {
    "name": "ipython",
    "version": 3
   },
   "file_extension": ".py",
   "mimetype": "text/x-python",
   "name": "python",
   "nbconvert_exporter": "python",
   "pygments_lexer": "ipython3",
   "version": "3.13.1"
  }
 },
 "nbformat": 4,
 "nbformat_minor": 5
}
