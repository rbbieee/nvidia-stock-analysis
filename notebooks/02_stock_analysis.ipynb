{
 "cells": [
  {
   "cell_type": "markdown",
   "id": "300099e6-dda4-42f4-a17b-9eb538bbca1d",
   "metadata": {},
   "source": [
    "# setup"
   ]
  },
  {
   "cell_type": "code",
   "execution_count": null,
   "id": "b2a8df93-c84c-45d1-a6af-7d64928cd735",
   "metadata": {},
   "outputs": [],
   "source": [
    "import pandas as pd\n",
    "import numpy as np\n",
    "import matplotlib.pyplot as plt\n",
    "import seaborn as sns\n",
    "from scipy import stats\n",
    "import sys\n",
    "sys.path.append('..')\n",
    "\n",
    "from src.data_fetcher import StockDataFetcher\n",
    "from src.features import FeatureEngineer\n",
    "\n",
    "plt.style.use('seaborn-v0_8-darkgrid')\n",
    "sns.set_palette(\"Set2\")\n",
    "\n",
    "print(\"Ready to analyze NVIDIA stock\")"
   ]
  },
  {
   "cell_type": "markdown",
   "id": "baf58605-cbb8-43f6-8244-0a4ca4ca09c9",
   "metadata": {},
   "source": [
    "# data"
   ]
  },
  {
   "cell_type": "code",
   "execution_count": null,
   "id": "2a35e526-c6d8-4420-9865-bbd5d57f4d72",
   "metadata": {},
   "outputs": [],
   "source": [
    "fetcher = StockDataFetcher('NVDA')\n",
    "df = fetcher.get_historical_data(period='3y')\n",
    "\n",
    "print(f\"Analyzing {len(df)} trading days\")\n",
    "print(f\"Period: {df['Date'].min().date()} to {df['Date'].max().date()}\")\n",
    "print(f\"Price range: ${df['Close'].min():.2f} - ${df['Close'].max():.2f}\")\n",
    "\n",
    "df.head()"
   ]
  },
  {
   "cell_type": "markdown",
   "id": "cafe5b15-43db-41de-95d2-9e2aa2f87ae5",
   "metadata": {},
   "source": [
    "# price evolution"
   ]
  },
  {
   "cell_type": "code",
   "execution_count": null,
   "id": "a58612c5-ac3c-4542-a3d0-3a54c3d6556e",
   "metadata": {},
   "outputs": [],
   "source": [
    "fig, ax = plt.subplots(figsize=(16, 7))\n",
    "\n",
    "ax.plot(df['Date'], df['Close'], linewidth=2.5, color='#2ecc71', alpha=0.9)\n",
    "ax.fill_between(df['Date'], df['Close'], alpha=0.2, color='#2ecc71')\n",
    "\n",
    "start_price = df['Close'].iloc[0]\n",
    "end_price = df['Close'].iloc[-1]\n",
    "total_return = ((end_price - start_price) / start_price) * 100\n",
    "\n",
    "ax.text(0.02, 0.95, f'Total Return: {total_return:+.1f}%', \n",
    "        transform=ax.transAxes, fontsize=14, fontweight='bold',\n",
    "        bbox=dict(boxstyle='round', facecolor='wheat', alpha=0.8))\n",
    "\n",
    "ax.set_title('NVIDIA Stock Price Journey', fontsize=19, fontweight='bold', pad=20)\n",
    "ax.set_xlabel('Date', fontsize=13)\n",
    "ax.set_ylabel('Closing Price (USD)', fontsize=13)\n",
    "ax.grid(True, alpha=0.3, linestyle='--')\n",
    "\n",
    "plt.tight_layout()\n",
    "plt.show()\n",
    "\n",
    "print(f\"Starting price: ${start_price:.2f}\")\n",
    "print(f\"Ending price: ${end_price:.2f}\")\n",
    "print(f\"Absolute gain: ${end_price - start_price:.2f}\")\n",
    "print(f\"Percentage gain: {total_return:.2f}%\")"
   ]
  },
  {
   "cell_type": "markdown",
   "id": "ce7d34ef-af14-4dd5-9212-a64db2c3e259",
   "metadata": {},
   "source": [
    "# daily return analysis"
   ]
  },
  {
   "cell_type": "code",
   "execution_count": null,
   "id": "bf7fd16a-2825-4d94-afa0-7914058de2ae",
   "metadata": {},
   "outputs": [],
   "source": [
    "df['Daily_Return'] = df['Close'].pct_change() * 100\n",
    "df['Cumulative_Return'] = (1 + df['Close'].pct_change()).cumprod() - 1\n",
    "\n",
    "fig, axes = plt.subplots(2, 2, figsize=(16, 10))\n",
    "\n",
    "axes[0, 0].plot(df['Date'], df['Daily_Return'], linewidth=1, color='#3498db', alpha=0.7)\n",
    "axes[0, 0].axhline(y=0, color='red', linestyle='--', alpha=0.5)\n",
    "axes[0, 0].set_title('Daily Returns Over Time', fontsize=14, fontweight='bold')\n",
    "axes[0, 0].set_ylabel('Return (%)', fontsize=11)\n",
    "axes[0, 0].grid(True, alpha=0.3)\n",
    "\n",
    "axes[0, 1].hist(df['Daily_Return'].dropna(), bins=60, color='#9b59b6', \n",
    "                alpha=0.7, edgecolor='black')\n",
    "axes[0, 1].axvline(df['Daily_Return'].mean(), color='red', linestyle='--', \n",
    "                   linewidth=2, label=f'Mean: {df[\"Daily_Return\"].mean():.2f}%')\n",
    "axes[0, 1].set_title('Return Distribution', fontsize=14, fontweight='bold')\n",
    "axes[0, 1].set_xlabel('Daily Return (%)', fontsize=11)\n",
    "axes[0, 1].legend()\n",
    "axes[0, 1].grid(True, alpha=0.3)\n",
    "\n",
    "axes[1, 0].plot(df['Date'], df['Cumulative_Return'] * 100, \n",
    "                linewidth=2.5, color='#e74c3c')\n",
    "axes[1, 0].fill_between(df['Date'], df['Cumulative_Return'] * 100, \n",
    "                        alpha=0.3, color='#e74c3c')\n",
    "axes[1, 0].set_title('Cumulative Returns', fontsize=14, fontweight='bold')\n",
    "axes[1, 0].set_xlabel('Date', fontsize=11)\n",
    "axes[1, 0].set_ylabel('Cumulative Return (%)', fontsize=11)\n",
    "axes[1, 0].grid(True, alpha=0.3)\n",
    "\n",
    "stats.probplot(df['Daily_Return'].dropna(), dist=\"norm\", plot=axes[1, 1])\n",
    "axes[1, 1].set_title('Q-Q Plot (Normality Check)', fontsize=14, fontweight='bold')\n",
    "axes[1, 1].grid(True, alpha=0.3)\n",
    "\n",
    "plt.tight_layout()\n",
    "plt.show()\n",
    "\n",
    "print(f\"Average daily return: {df['Daily_Return'].mean():.3f}%\")\n",
    "print(f\"Daily volatility (std): {df['Daily_Return'].std():.3f}%\")\n",
    "print(f\"Best single day: {df['Daily_Return'].max():.2f}%\")\n",
    "print(f\"Worst single day: {df['Daily_Return'].min():.2f}%\")\n",
    "print(f\"Sharpe ratio (approx): {(df['Daily_Return'].mean() / df['Daily_Return'].std()):.3f}\")"
   ]
  },
  {
   "cell_type": "markdown",
   "id": "a03352f6-8c34-4b45-994b-54b95b00f322",
   "metadata": {},
   "source": [
    "# volume pattern"
   ]
  },
  {
   "cell_type": "code",
   "execution_count": null,
   "id": "f03213f2-b1ea-477a-9327-bbce67de798c",
   "metadata": {},
   "outputs": [],
   "source": [
    "fig, (ax1, ax2) = plt.subplots(2, 1, figsize=(16, 10), sharex=True)\n",
    "\n",
    "ax1.plot(df['Date'], df['Close'], linewidth=2, color='#16a085', label='Price')\n",
    "ax1.set_ylabel('Price (USD)', fontsize=12)\n",
    "ax1.set_title('Price vs Volume Relationship', fontsize=16, fontweight='bold', pad=15)\n",
    "ax1.legend(loc='upper left')\n",
    "ax1.grid(True, alpha=0.3)\n",
    "\n",
    "color_volume = ['#e74c3c' if ret < 0 else '#2ecc71' \n",
    "                for ret in df['Daily_Return'].fillna(0)]\n",
    "ax2.bar(df['Date'], df['Volume'], width=1, color=color_volume, alpha=0.6)\n",
    "ax2.set_ylabel('Volume', fontsize=12)\n",
    "ax2.set_xlabel('Date', fontsize=12)\n",
    "ax2.grid(True, alpha=0.3, axis='y')\n",
    "\n",
    "plt.tight_layout()\n",
    "plt.show()\n",
    "\n",
    "avg_volume = df['Volume'].mean()\n",
    "print(f\"Average daily volume: {avg_volume:,.0f} shares\")\n",
    "print(f\"Highest volume day: {df['Volume'].max():,.0f} shares\")\n",
    "print(f\"Date of highest volume: {df.loc[df['Volume'].idxmax(), 'Date'].date()}\")"
   ]
  },
  {
   "cell_type": "code",
   "execution_count": null,
   "id": "ecbc9b7a-130c-4a27-ba73-2991fbb1b643",
   "metadata": {},
   "outputs": [],
   "source": []
  }
 ],
 "metadata": {
  "kernelspec": {
   "display_name": "Python 3 (ipykernel)",
   "language": "python",
   "name": "python3"
  },
  "language_info": {
   "codemirror_mode": {
    "name": "ipython",
    "version": 3
   },
   "file_extension": ".py",
   "mimetype": "text/x-python",
   "name": "python",
   "nbconvert_exporter": "python",
   "pygments_lexer": "ipython3",
   "version": "3.13.1"
  }
 },
 "nbformat": 4,
 "nbformat_minor": 5
}
